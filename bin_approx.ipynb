{
  "cells": [
    {
      "metadata": {
        "collapsed": true
      },
      "cell_type": "markdown",
      "source": "# Bin_Approx Algorithm"
    },
    {
      "metadata": {},
      "cell_type": "markdown",
      "source": "The **median** is the value separating the higher half from the lower half of a data sample.\nUsually, to get a fair representation of the data, we observe its mean. This is particularly usefull if the distribution is uniform. But, if we have too many outliers, then mean would get seriously affected by them. An example of this is below.\n\nIn such a non-uniform distributions, it makes sense to use **median** instead of mean to get a fair representation of the data. \nCalculation of mean is not an computationally intensive task, as we just need to calculate the sum and devide it by the total number of elements in distribution. But for calculating median, we need to hold the entire dataset at once in memory, since if we would not do that, then we may not be able to get the middle element and that would lead to incorrect median. \n\nThis seems okay for small datasets, but as their size increases, particularly in deep learning, where we have datasets containing thousands of images, having a memory that can hold all these images at once if practically not feasible.\nBecause of this, Ryan J. Tibshirani of Stanford University came up with a novel approach, known as Successive binning or bin-approx algorithm. It predicts an appromixation of the median and we need not hold the entire dataset in memory at once.\n\nThis post presents the code that I wrote after reading this [paper](http://www.stat.cmu.edu/~ryantibs/papers/median.pdf). The code is written in python in this notebook. For javascript version of code, you can visit my github profile."
    },
    {
      "metadata": {},
      "cell_type": "markdown",
      "source": "The general algorithm can be represented by following steps.\n\n1. Calculate Mean\n2. Calculate Standard Deviation\n3. Define upper and lower bounds, **minval** = mean-std, **maxval** = mean+std\n4. Set the bin width, **bin_width** = 2*std/num_bins\n5. define zero bin or ignore bin\n6. Define **num_bins** bins to count values in these\n7. Count the number of values falling into each bin\n8. Sum these counts starting from ignore bin until sum >= (N+1)/2\n9. Print the mid point of bin that exceedid (N+1)/2"
    },
    {
      "metadata": {
        "trusted": true
      },
      "cell_type": "code",
      "source": "# Import Numpy amd time\nimport numpy as np\nimport time",
      "execution_count": 5,
      "outputs": []
    },
    {
      "metadata": {
        "trusted": true
      },
      "cell_type": "code",
      "source": "def median_approx(values, B):\n\n    mean = np.mean(values)\n    std = np.std(values)\n    \n    # Initialise bins\n    left_bin = 0\n    bins = np.zeros(B)\n    bin_width = 2*std/B\n    \n    # Bin values\n    for value in values:\n        if value < mean - std:    \n            left_bin += 1\n        elif value < mean + std:\n            bin = int((value - (mean - std))/bin_width)\n            bins[bin] += 1\n            \n    N = len(values)\n    mid = (N + 1)/2\n\n    count = left_bin\n    for b, bincount in enumerate(bins):\n        count += bincount\n        if count >= mid:\n            # Stop when the count exceeds the midpoint\n            break\n    #print(b)\n    width = 2*std/B\n    median = mean - std + width*(b + 0.5)\n    return median",
      "execution_count": 6,
      "outputs": []
    },
    {
      "metadata": {
        "trusted": true
      },
      "cell_type": "code",
      "source": "# call the median_approx function\nmedian_approx([1, 2, 5, 5, 4, 6, 8, 1], 4)",
      "execution_count": 4,
      "outputs": [
        {
          "output_type": "execute_result",
          "execution_count": 4,
          "data": {
            "text/plain": "4.586301969977929"
          },
          "metadata": {}
        }
      ]
    },
    {
      "metadata": {},
      "cell_type": "markdown",
      "source": "The accuracy of this algorithm pretty much depends on the number of bins chosen. So as long as we have chosen sufficiently high number of bins, we can be assured that our result would be quite accurate to that of the correct result."
    },
    {
      "metadata": {
        "trusted": true
      },
      "cell_type": "code",
      "source": "",
      "execution_count": null,
      "outputs": []
    },
    {
      "metadata": {
        "trusted": true
      },
      "cell_type": "code",
      "source": "",
      "execution_count": null,
      "outputs": []
    }
  ],
  "metadata": {
    "kernelspec": {
      "name": "python3",
      "display_name": "Python 3",
      "language": "python"
    },
    "language_info": {
      "mimetype": "text/x-python",
      "nbconvert_exporter": "python",
      "name": "python",
      "pygments_lexer": "ipython3",
      "version": "3.5.4",
      "file_extension": ".py",
      "codemirror_mode": {
        "version": 3,
        "name": "ipython"
      }
    }
  },
  "nbformat": 4,
  "nbformat_minor": 2
}